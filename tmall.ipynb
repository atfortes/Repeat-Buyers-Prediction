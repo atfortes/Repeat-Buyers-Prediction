{
 "cells": [
  {
   "cell_type": "markdown",
   "metadata": {},
   "source": [
    "# Big Data Intelligence Project\n",
    "## TMall Repeat Buyers Prediction"
   ]
  },
  {
   "cell_type": "code",
   "execution_count": null,
   "metadata": {
    "pycharm": {
     "name": "#%%\n"
    }
   },
   "outputs": [],
   "source": [
    "import numpy as np\n",
    "import pandas as pd"
   ]
  },
  {
   "cell_type": "markdown",
   "metadata": {},
   "source": [
    "#### Hyperparameters"
   ]
  },
  {
   "cell_type": "code",
   "execution_count": null,
   "metadata": {},
   "outputs": [],
   "source": []
  },
  {
   "cell_type": "markdown",
   "metadata": {},
   "source": [
    "### Data Pre-Processing"
   ]
  },
  {
   "cell_type": "markdown",
   "metadata": {},
   "source": [
    "#### Read CSVs"
   ]
  },
  {
   "cell_type": "code",
   "execution_count": null,
   "metadata": {
    "collapsed": false,
    "pycharm": {
     "name": "#%%\n"
    }
   },
   "outputs": [],
   "source": [
    "df_train = pd.read_csv('data_format1/train_format1.csv')\n",
    "\n",
    "df_test = pd.read_csv('data_format1/test_format1.csv')\n",
    "df_test.drop('prob', axis=1, inplace=True)\n",
    "\n",
    "df_user_info = pd.read_csv('data_format1/user_info_format1.csv')"
   ]
  },
  {
   "cell_type": "code",
   "execution_count": 131,
   "metadata": {},
   "outputs": [],
   "source": [
    "df_user_log = pd.read_csv('data_format1/user_log_format1.csv')"
   ]
  },
  {
   "cell_type": "markdown",
   "metadata": {},
   "source": [
    "#### Optimize memory usage"
   ]
  },
  {
   "cell_type": "code",
   "execution_count": 132,
   "metadata": {},
   "outputs": [
    {
     "name": "stdout",
     "output_type": "stream",
     "text": [
      "2.86 GB\n"
     ]
    }
   ],
   "source": [
    "print(f'{round(df_user_log.memory_usage().sum() / 2**30, 2)} GB')"
   ]
  },
  {
   "cell_type": "code",
   "execution_count": 133,
   "metadata": {},
   "outputs": [],
   "source": [
    "df_user_log['user_id'] = df_user_log['user_id'].astype(np.int32)\n",
    "df_user_log['item_id'] = df_user_log['item_id'].astype(np.int32)\n",
    "df_user_log['cat_id'] = df_user_log['cat_id'].astype(np.int16)\n",
    "df_user_log['seller_id'] = df_user_log['seller_id'].astype(np.int16)\n",
    "df_user_log['brand_id'].fillna(0, inplace=True)\n",
    "df_user_log['brand_id'] = df_user_log['brand_id'].astype(np.int16)\n",
    "df_user_log['time_stamp'] = df_user_log['time_stamp'].astype(np.int16)\n",
    "df_user_log['action_type'] = df_user_log['action_type'].astype(np.int8)"
   ]
  },
  {
   "cell_type": "code",
   "execution_count": 135,
   "metadata": {},
   "outputs": [
    {
     "name": "stdout",
     "output_type": "stream",
     "text": [
      "0.87 GB\n"
     ]
    }
   ],
   "source": [
    "print(f'{round(df_user_log.memory_usage().sum() / 2**30, 2)} GB')"
   ]
  },
  {
   "cell_type": "markdown",
   "metadata": {},
   "source": [
    "### Any model"
   ]
  },
  {
   "cell_type": "code",
   "execution_count": null,
   "metadata": {},
   "outputs": [],
   "source": []
  }
 ],
 "metadata": {
  "interpreter": {
   "hash": "52143a4c1d3c54e78ec3a6dc4e56afb88afff4ca0e9824f0ff9251ac34bb2b12"
  },
  "kernelspec": {
   "display_name": "PyCharm (Project)",
   "language": "python",
   "name": "python3"
  },
  "language_info": {
   "codemirror_mode": {
    "name": "ipython",
    "version": 3
   },
   "file_extension": ".py",
   "mimetype": "text/x-python",
   "name": "python",
   "nbconvert_exporter": "python",
   "pygments_lexer": "ipython3",
   "version": "3.9.7"
  }
 },
 "nbformat": 4,
 "nbformat_minor": 1
}
