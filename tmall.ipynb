{
 "cells": [
  {
   "cell_type": "markdown",
   "metadata": {},
   "source": [
    "# Big Data Intelligence Project\n",
    "## TMall Repeat Buyers Prediction"
   ]
  },
  {
   "cell_type": "code",
   "execution_count": 1,
   "metadata": {
    "pycharm": {
     "name": "#%%\n"
    }
   },
   "outputs": [],
   "source": [
    "from sklearn.ensemble import RandomForestClassifier\n",
    "from sklearn.model_selection import train_test_split\n",
    "from sklearn import metrics\n",
    "import numpy as np\n",
    "import pandas as pd\n",
    "import xgboost as xgb"
   ]
  },
  {
   "cell_type": "markdown",
   "metadata": {},
   "source": [
    "### Data Pre-Processing"
   ]
  },
  {
   "cell_type": "markdown",
   "metadata": {},
   "source": [
    "#### Read CSVs"
   ]
  },
  {
   "cell_type": "code",
   "execution_count": 2,
   "metadata": {
    "collapsed": false,
    "pycharm": {
     "name": "#%%\n"
    }
   },
   "outputs": [],
   "source": [
    "df_train = pd.read_csv('data_format1/train_format1.csv')\n",
    "\n",
    "df_test = pd.read_csv('data_format1/test_format1.csv')\n",
    "df_test.drop('prob', axis=1, inplace=True)\n",
    "\n",
    "df_user_info = pd.read_csv('data_format1/user_info_format1.csv')"
   ]
  },
  {
   "cell_type": "code",
   "execution_count": 3,
   "metadata": {},
   "outputs": [],
   "source": [
    "df_user_log = pd.read_csv('data_format1/user_log_format1.csv')"
   ]
  },
  {
   "cell_type": "markdown",
   "metadata": {},
   "source": [
    "#### Optimize memory usage and Data Cleaning"
   ]
  },
  {
   "cell_type": "code",
   "execution_count": 4,
   "metadata": {},
   "outputs": [
    {
     "name": "stdout",
     "output_type": "stream",
     "text": [
      "2.86 GB\n"
     ]
    }
   ],
   "source": [
    "print(f'{round(df_user_log.memory_usage().sum() / 2**30, 2)} GB')"
   ]
  },
  {
   "cell_type": "code",
   "execution_count": 5,
   "metadata": {},
   "outputs": [],
   "source": [
    "df_user_log['user_id'] = df_user_log['user_id'].astype(np.int32)\n",
    "df_user_log['item_id'] = df_user_log['item_id'].astype(np.int32)\n",
    "df_user_log['cat_id'] = df_user_log['cat_id'].astype(np.int16)\n",
    "df_user_log['seller_id'] = df_user_log['seller_id'].astype(np.int16)\n",
    "df_user_log.rename(columns={'seller_id' : 'merchant_id'}, inplace=True)\n",
    "df_user_log['brand_id'].fillna(0, inplace=True)\n",
    "df_user_log['brand_id'] = df_user_log['brand_id'].astype(np.int16)\n",
    "#df_user_log['time_stamp'] = (pd.to_datetime(df_user_log['time_stamp'], format='%m%d') - pd.to_datetime(df_user_log['time_stamp'].min(), format='%m%d')).dt.days\n",
    "df_user_log['time_stamp'] = df_user_log['time_stamp'].astype(np.int16)\n",
    "df_user_log['action_type'] = df_user_log['action_type'].astype(np.int8)"
   ]
  },
  {
   "cell_type": "code",
   "execution_count": 6,
   "metadata": {},
   "outputs": [
    {
     "name": "stdout",
     "output_type": "stream",
     "text": [
      "0.87 GB\n"
     ]
    }
   ],
   "source": [
    "print(f'{round(df_user_log.memory_usage().sum() / 2**30, 2)} GB')"
   ]
  },
  {
   "cell_type": "code",
   "execution_count": 7,
   "metadata": {},
   "outputs": [],
   "source": [
    "df_user_info['age_range'].fillna(0, inplace=True)\n",
    "df_user_info['gender'].fillna(2, inplace=True)\n",
    "df_user_info['age_range'] = df_user_info['age_range'].astype(np.int8)\n",
    "df_user_info['gender'] = df_user_info['gender'].astype(np.int8)"
   ]
  },
  {
   "cell_type": "markdown",
   "metadata": {},
   "source": [
    "Add features"
   ]
  },
  {
   "cell_type": "code",
   "execution_count": 8,
   "metadata": {},
   "outputs": [],
   "source": [
    "users = df_user_log.groupby('user_id')\n",
    "users_merchants = df_user_log.groupby(['user_id', 'merchant_id'])"
   ]
  },
  {
   "cell_type": "code",
   "execution_count": 9,
   "metadata": {},
   "outputs": [],
   "source": [
    "df_train = df_train.merge(pd.get_dummies(df_user_info, prefix='age', columns=['age_range']), on='user_id')\n",
    "\n",
    "count_unique = df_user_log.groupby('user_id').nunique().reset_index().rename(columns={\n",
    "    'item_id': 'items', \n",
    "    'cat_id': 'categories',\n",
    "    'merchant_id': 'merchants',\n",
    "    'brand_id': 'brands',\n",
    "    'time_stamp': 'dates',\n",
    "    'action_type': 'action_types'\n",
    "    })\n",
    "df_train = df_train.merge(count_unique)\n",
    "\n",
    "actions_user = users['action_type'].value_counts().unstack(fill_value=0).rename(columns={\n",
    "    0: 'clicks_user',\n",
    "    1: 'carts_user',\n",
    "    2: 'purchases_user',\n",
    "    3: 'favourites_user'\n",
    "    })\n",
    "df_train = df_train.merge(actions_user, on='user_id')\n",
    "\n",
    "actions_merchant = users_merchants['action_type'].value_counts().unstack(fill_value=0).rename(columns={\n",
    "    0: 'clicks_merchant', \n",
    "    1: 'carts_merchant',\n",
    "    2: 'purchases_merchant',\n",
    "    3: 'favourites_merchant'\n",
    "    })\n",
    "df_train = df_train.merge(actions_merchant, on=['user_id', 'merchant_id'])\n",
    "\n",
    "df_train['clicks_ratio'] = df_train['clicks_merchant'] / (df_train['purchases_merchant'] + df_train['clicks_merchant'] + df_train['carts_merchant'] + df_train['favourites_merchant'])"
   ]
  },
  {
   "cell_type": "code",
   "execution_count": 56,
   "metadata": {},
   "outputs": [],
   "source": [
    "X, y = df_train.drop(columns='label'), df_train['label']"
   ]
  },
  {
   "cell_type": "code",
   "execution_count": 57,
   "metadata": {},
   "outputs": [],
   "source": [
    "X_train, X_test, y_train, y_test = train_test_split(X, y, test_size=0.33, random_state=42)"
   ]
  },
  {
   "cell_type": "code",
   "execution_count": 58,
   "metadata": {},
   "outputs": [
    {
     "data": {
      "text/html": [
       "<div>\n",
       "<style scoped>\n",
       "    .dataframe tbody tr th:only-of-type {\n",
       "        vertical-align: middle;\n",
       "    }\n",
       "\n",
       "    .dataframe tbody tr th {\n",
       "        vertical-align: top;\n",
       "    }\n",
       "\n",
       "    .dataframe thead th {\n",
       "        text-align: right;\n",
       "    }\n",
       "</style>\n",
       "<table border=\"1\" class=\"dataframe\">\n",
       "  <thead>\n",
       "    <tr style=\"text-align: right;\">\n",
       "      <th></th>\n",
       "      <th>user_id</th>\n",
       "      <th>merchant_id</th>\n",
       "      <th>gender</th>\n",
       "      <th>age_0</th>\n",
       "      <th>age_1</th>\n",
       "      <th>age_2</th>\n",
       "      <th>age_3</th>\n",
       "      <th>age_4</th>\n",
       "      <th>age_5</th>\n",
       "      <th>age_6</th>\n",
       "      <th>...</th>\n",
       "      <th>carts_merchant</th>\n",
       "      <th>purchases_merchant</th>\n",
       "      <th>favourites_merchant</th>\n",
       "      <th>clicks_ratio</th>\n",
       "      <th>items</th>\n",
       "      <th>categories</th>\n",
       "      <th>merchants</th>\n",
       "      <th>brands</th>\n",
       "      <th>dates</th>\n",
       "      <th>action_types</th>\n",
       "    </tr>\n",
       "  </thead>\n",
       "  <tbody>\n",
       "    <tr>\n",
       "      <th>197883</th>\n",
       "      <td>123335</td>\n",
       "      <td>3392</td>\n",
       "      <td>1</td>\n",
       "      <td>0</td>\n",
       "      <td>0</td>\n",
       "      <td>0</td>\n",
       "      <td>1</td>\n",
       "      <td>0</td>\n",
       "      <td>0</td>\n",
       "      <td>0</td>\n",
       "      <td>...</td>\n",
       "      <td>0</td>\n",
       "      <td>1</td>\n",
       "      <td>0</td>\n",
       "      <td>0.750000</td>\n",
       "      <td>10</td>\n",
       "      <td>5</td>\n",
       "      <td>5</td>\n",
       "      <td>6</td>\n",
       "      <td>6</td>\n",
       "      <td>2</td>\n",
       "    </tr>\n",
       "    <tr>\n",
       "      <th>169721</th>\n",
       "      <td>72820</td>\n",
       "      <td>474</td>\n",
       "      <td>1</td>\n",
       "      <td>0</td>\n",
       "      <td>0</td>\n",
       "      <td>0</td>\n",
       "      <td>0</td>\n",
       "      <td>1</td>\n",
       "      <td>0</td>\n",
       "      <td>0</td>\n",
       "      <td>...</td>\n",
       "      <td>0</td>\n",
       "      <td>1</td>\n",
       "      <td>0</td>\n",
       "      <td>0.666667</td>\n",
       "      <td>104</td>\n",
       "      <td>34</td>\n",
       "      <td>36</td>\n",
       "      <td>37</td>\n",
       "      <td>17</td>\n",
       "      <td>3</td>\n",
       "    </tr>\n",
       "    <tr>\n",
       "      <th>149495</th>\n",
       "      <td>233785</td>\n",
       "      <td>4269</td>\n",
       "      <td>1</td>\n",
       "      <td>0</td>\n",
       "      <td>0</td>\n",
       "      <td>0</td>\n",
       "      <td>1</td>\n",
       "      <td>0</td>\n",
       "      <td>0</td>\n",
       "      <td>0</td>\n",
       "      <td>...</td>\n",
       "      <td>0</td>\n",
       "      <td>1</td>\n",
       "      <td>0</td>\n",
       "      <td>0.000000</td>\n",
       "      <td>2</td>\n",
       "      <td>2</td>\n",
       "      <td>2</td>\n",
       "      <td>2</td>\n",
       "      <td>2</td>\n",
       "      <td>2</td>\n",
       "    </tr>\n",
       "    <tr>\n",
       "      <th>246223</th>\n",
       "      <td>415316</td>\n",
       "      <td>3734</td>\n",
       "      <td>1</td>\n",
       "      <td>0</td>\n",
       "      <td>0</td>\n",
       "      <td>0</td>\n",
       "      <td>1</td>\n",
       "      <td>0</td>\n",
       "      <td>0</td>\n",
       "      <td>0</td>\n",
       "      <td>...</td>\n",
       "      <td>0</td>\n",
       "      <td>1</td>\n",
       "      <td>1</td>\n",
       "      <td>0.600000</td>\n",
       "      <td>14</td>\n",
       "      <td>6</td>\n",
       "      <td>12</td>\n",
       "      <td>11</td>\n",
       "      <td>5</td>\n",
       "      <td>3</td>\n",
       "    </tr>\n",
       "    <tr>\n",
       "      <th>61563</th>\n",
       "      <td>3381</td>\n",
       "      <td>4287</td>\n",
       "      <td>2</td>\n",
       "      <td>1</td>\n",
       "      <td>0</td>\n",
       "      <td>0</td>\n",
       "      <td>0</td>\n",
       "      <td>0</td>\n",
       "      <td>0</td>\n",
       "      <td>0</td>\n",
       "      <td>...</td>\n",
       "      <td>0</td>\n",
       "      <td>1</td>\n",
       "      <td>0</td>\n",
       "      <td>0.500000</td>\n",
       "      <td>14</td>\n",
       "      <td>7</td>\n",
       "      <td>14</td>\n",
       "      <td>13</td>\n",
       "      <td>5</td>\n",
       "      <td>3</td>\n",
       "    </tr>\n",
       "    <tr>\n",
       "      <th>...</th>\n",
       "      <td>...</td>\n",
       "      <td>...</td>\n",
       "      <td>...</td>\n",
       "      <td>...</td>\n",
       "      <td>...</td>\n",
       "      <td>...</td>\n",
       "      <td>...</td>\n",
       "      <td>...</td>\n",
       "      <td>...</td>\n",
       "      <td>...</td>\n",
       "      <td>...</td>\n",
       "      <td>...</td>\n",
       "      <td>...</td>\n",
       "      <td>...</td>\n",
       "      <td>...</td>\n",
       "      <td>...</td>\n",
       "      <td>...</td>\n",
       "      <td>...</td>\n",
       "      <td>...</td>\n",
       "      <td>...</td>\n",
       "      <td>...</td>\n",
       "    </tr>\n",
       "    <tr>\n",
       "      <th>259178</th>\n",
       "      <td>295547</td>\n",
       "      <td>4655</td>\n",
       "      <td>0</td>\n",
       "      <td>0</td>\n",
       "      <td>0</td>\n",
       "      <td>0</td>\n",
       "      <td>1</td>\n",
       "      <td>0</td>\n",
       "      <td>0</td>\n",
       "      <td>0</td>\n",
       "      <td>...</td>\n",
       "      <td>0</td>\n",
       "      <td>1</td>\n",
       "      <td>0</td>\n",
       "      <td>0.971429</td>\n",
       "      <td>64</td>\n",
       "      <td>27</td>\n",
       "      <td>21</td>\n",
       "      <td>20</td>\n",
       "      <td>15</td>\n",
       "      <td>3</td>\n",
       "    </tr>\n",
       "    <tr>\n",
       "      <th>103694</th>\n",
       "      <td>5809</td>\n",
       "      <td>4474</td>\n",
       "      <td>0</td>\n",
       "      <td>1</td>\n",
       "      <td>0</td>\n",
       "      <td>0</td>\n",
       "      <td>0</td>\n",
       "      <td>0</td>\n",
       "      <td>0</td>\n",
       "      <td>0</td>\n",
       "      <td>...</td>\n",
       "      <td>0</td>\n",
       "      <td>1</td>\n",
       "      <td>0</td>\n",
       "      <td>0.833333</td>\n",
       "      <td>502</td>\n",
       "      <td>62</td>\n",
       "      <td>189</td>\n",
       "      <td>187</td>\n",
       "      <td>61</td>\n",
       "      <td>3</td>\n",
       "    </tr>\n",
       "    <tr>\n",
       "      <th>131932</th>\n",
       "      <td>124933</td>\n",
       "      <td>2669</td>\n",
       "      <td>0</td>\n",
       "      <td>0</td>\n",
       "      <td>0</td>\n",
       "      <td>0</td>\n",
       "      <td>0</td>\n",
       "      <td>0</td>\n",
       "      <td>0</td>\n",
       "      <td>0</td>\n",
       "      <td>...</td>\n",
       "      <td>0</td>\n",
       "      <td>1</td>\n",
       "      <td>0</td>\n",
       "      <td>0.500000</td>\n",
       "      <td>64</td>\n",
       "      <td>23</td>\n",
       "      <td>44</td>\n",
       "      <td>44</td>\n",
       "      <td>25</td>\n",
       "      <td>2</td>\n",
       "    </tr>\n",
       "    <tr>\n",
       "      <th>146867</th>\n",
       "      <td>384049</td>\n",
       "      <td>3971</td>\n",
       "      <td>1</td>\n",
       "      <td>0</td>\n",
       "      <td>0</td>\n",
       "      <td>0</td>\n",
       "      <td>1</td>\n",
       "      <td>0</td>\n",
       "      <td>0</td>\n",
       "      <td>0</td>\n",
       "      <td>...</td>\n",
       "      <td>0</td>\n",
       "      <td>1</td>\n",
       "      <td>0</td>\n",
       "      <td>0.750000</td>\n",
       "      <td>58</td>\n",
       "      <td>20</td>\n",
       "      <td>43</td>\n",
       "      <td>35</td>\n",
       "      <td>20</td>\n",
       "      <td>3</td>\n",
       "    </tr>\n",
       "    <tr>\n",
       "      <th>121958</th>\n",
       "      <td>78823</td>\n",
       "      <td>4756</td>\n",
       "      <td>0</td>\n",
       "      <td>0</td>\n",
       "      <td>0</td>\n",
       "      <td>0</td>\n",
       "      <td>0</td>\n",
       "      <td>0</td>\n",
       "      <td>0</td>\n",
       "      <td>0</td>\n",
       "      <td>...</td>\n",
       "      <td>0</td>\n",
       "      <td>2</td>\n",
       "      <td>0</td>\n",
       "      <td>0.666667</td>\n",
       "      <td>75</td>\n",
       "      <td>33</td>\n",
       "      <td>46</td>\n",
       "      <td>46</td>\n",
       "      <td>35</td>\n",
       "      <td>2</td>\n",
       "    </tr>\n",
       "  </tbody>\n",
       "</table>\n",
       "<p>174778 rows × 27 columns</p>\n",
       "</div>"
      ],
      "text/plain": [
       "        user_id  merchant_id  gender  age_0  age_1  age_2  age_3  age_4  \\\n",
       "197883   123335         3392       1      0      0      0      1      0   \n",
       "169721    72820          474       1      0      0      0      0      1   \n",
       "149495   233785         4269       1      0      0      0      1      0   \n",
       "246223   415316         3734       1      0      0      0      1      0   \n",
       "61563      3381         4287       2      1      0      0      0      0   \n",
       "...         ...          ...     ...    ...    ...    ...    ...    ...   \n",
       "259178   295547         4655       0      0      0      0      1      0   \n",
       "103694     5809         4474       0      1      0      0      0      0   \n",
       "131932   124933         2669       0      0      0      0      0      0   \n",
       "146867   384049         3971       1      0      0      0      1      0   \n",
       "121958    78823         4756       0      0      0      0      0      0   \n",
       "\n",
       "        age_5  age_6  ...  carts_merchant  purchases_merchant  \\\n",
       "197883      0      0  ...               0                   1   \n",
       "169721      0      0  ...               0                   1   \n",
       "149495      0      0  ...               0                   1   \n",
       "246223      0      0  ...               0                   1   \n",
       "61563       0      0  ...               0                   1   \n",
       "...       ...    ...  ...             ...                 ...   \n",
       "259178      0      0  ...               0                   1   \n",
       "103694      0      0  ...               0                   1   \n",
       "131932      0      0  ...               0                   1   \n",
       "146867      0      0  ...               0                   1   \n",
       "121958      0      0  ...               0                   2   \n",
       "\n",
       "        favourites_merchant  clicks_ratio  items  categories  merchants  \\\n",
       "197883                    0      0.750000     10           5          5   \n",
       "169721                    0      0.666667    104          34         36   \n",
       "149495                    0      0.000000      2           2          2   \n",
       "246223                    1      0.600000     14           6         12   \n",
       "61563                     0      0.500000     14           7         14   \n",
       "...                     ...           ...    ...         ...        ...   \n",
       "259178                    0      0.971429     64          27         21   \n",
       "103694                    0      0.833333    502          62        189   \n",
       "131932                    0      0.500000     64          23         44   \n",
       "146867                    0      0.750000     58          20         43   \n",
       "121958                    0      0.666667     75          33         46   \n",
       "\n",
       "        brands  dates  action_types  \n",
       "197883       6      6             2  \n",
       "169721      37     17             3  \n",
       "149495       2      2             2  \n",
       "246223      11      5             3  \n",
       "61563       13      5             3  \n",
       "...        ...    ...           ...  \n",
       "259178      20     15             3  \n",
       "103694     187     61             3  \n",
       "131932      44     25             2  \n",
       "146867      35     20             3  \n",
       "121958      46     35             2  \n",
       "\n",
       "[174778 rows x 27 columns]"
      ]
     },
     "execution_count": 58,
     "metadata": {},
     "output_type": "execute_result"
    }
   ],
   "source": [
    "X_train"
   ]
  },
  {
   "cell_type": "code",
   "execution_count": 59,
   "metadata": {},
   "outputs": [
    {
     "data": {
      "text/plain": [
       "RandomForestClassifier(max_depth=10, max_features='sqrt', n_estimators=1000,\n",
       "                       n_jobs=-1, oob_score=True)"
      ]
     },
     "execution_count": 59,
     "metadata": {},
     "output_type": "execute_result"
    }
   ],
   "source": [
    "rfc = RandomForestClassifier(\n",
    "    oob_score=True, \n",
    "    n_jobs=-1, \n",
    "    n_estimators=1000, \n",
    "    max_depth=10, \n",
    "    max_features='sqrt')\n",
    "\n",
    "rfc.fit(X_train.to_numpy(), y_train.to_numpy())"
   ]
  },
  {
   "cell_type": "code",
   "execution_count": 60,
   "metadata": {},
   "outputs": [],
   "source": [
    "prob = rfc.predict_proba(X_test.to_numpy())[:,1]"
   ]
  },
  {
   "cell_type": "code",
   "execution_count": 61,
   "metadata": {},
   "outputs": [
    {
     "data": {
      "text/plain": [
       "0.627"
      ]
     },
     "execution_count": 61,
     "metadata": {},
     "output_type": "execute_result"
    }
   ],
   "source": [
    "round(metrics.roc_auc_score(y_test, prob), 3)"
   ]
  },
  {
   "cell_type": "code",
   "execution_count": 62,
   "metadata": {},
   "outputs": [
    {
     "name": "stdout",
     "output_type": "stream",
     "text": [
      "[0]\tvalidation_0-auc:0.61234\tvalidation_1-auc:0.61318\n",
      "[1]\tvalidation_0-auc:0.62305\tvalidation_1-auc:0.61519\n",
      "[2]\tvalidation_0-auc:0.62914\tvalidation_1-auc:0.61839\n",
      "[3]\tvalidation_0-auc:0.63389\tvalidation_1-auc:0.61930\n",
      "[4]\tvalidation_0-auc:0.63537\tvalidation_1-auc:0.62090\n",
      "[5]\tvalidation_0-auc:0.63661\tvalidation_1-auc:0.62195\n",
      "[6]\tvalidation_0-auc:0.63733\tvalidation_1-auc:0.62305\n",
      "[7]\tvalidation_0-auc:0.63814\tvalidation_1-auc:0.62332\n",
      "[8]\tvalidation_0-auc:0.63850\tvalidation_1-auc:0.62359\n",
      "[9]\tvalidation_0-auc:0.63891\tvalidation_1-auc:0.62421\n",
      "[10]\tvalidation_0-auc:0.63957\tvalidation_1-auc:0.62546\n",
      "[11]\tvalidation_0-auc:0.64237\tvalidation_1-auc:0.62882\n",
      "[12]\tvalidation_0-auc:0.64268\tvalidation_1-auc:0.62863\n",
      "[13]\tvalidation_0-auc:0.64484\tvalidation_1-auc:0.63010\n",
      "[14]\tvalidation_0-auc:0.64567\tvalidation_1-auc:0.63029\n",
      "[15]\tvalidation_0-auc:0.64691\tvalidation_1-auc:0.63073\n",
      "[16]\tvalidation_0-auc:0.64883\tvalidation_1-auc:0.63309\n",
      "[17]\tvalidation_0-auc:0.64988\tvalidation_1-auc:0.63352\n",
      "[18]\tvalidation_0-auc:0.65079\tvalidation_1-auc:0.63323\n",
      "[19]\tvalidation_0-auc:0.65138\tvalidation_1-auc:0.63354\n",
      "[20]\tvalidation_0-auc:0.65222\tvalidation_1-auc:0.63359\n",
      "[21]\tvalidation_0-auc:0.65327\tvalidation_1-auc:0.63437\n",
      "[22]\tvalidation_0-auc:0.65380\tvalidation_1-auc:0.63378\n",
      "[23]\tvalidation_0-auc:0.65450\tvalidation_1-auc:0.63328\n",
      "[24]\tvalidation_0-auc:0.65505\tvalidation_1-auc:0.63346\n",
      "[25]\tvalidation_0-auc:0.65668\tvalidation_1-auc:0.63440\n",
      "[26]\tvalidation_0-auc:0.65698\tvalidation_1-auc:0.63435\n",
      "[27]\tvalidation_0-auc:0.65804\tvalidation_1-auc:0.63520\n",
      "[28]\tvalidation_0-auc:0.65897\tvalidation_1-auc:0.63514\n",
      "[29]\tvalidation_0-auc:0.66024\tvalidation_1-auc:0.63667\n",
      "[30]\tvalidation_0-auc:0.66116\tvalidation_1-auc:0.63638\n",
      "[31]\tvalidation_0-auc:0.66159\tvalidation_1-auc:0.63688\n",
      "[32]\tvalidation_0-auc:0.66223\tvalidation_1-auc:0.63739\n",
      "[33]\tvalidation_0-auc:0.66299\tvalidation_1-auc:0.63767\n",
      "[34]\tvalidation_0-auc:0.66370\tvalidation_1-auc:0.63740\n",
      "[35]\tvalidation_0-auc:0.66517\tvalidation_1-auc:0.63731\n",
      "[36]\tvalidation_0-auc:0.66634\tvalidation_1-auc:0.63758\n",
      "[37]\tvalidation_0-auc:0.66673\tvalidation_1-auc:0.63766\n",
      "[38]\tvalidation_0-auc:0.66738\tvalidation_1-auc:0.63819\n",
      "[39]\tvalidation_0-auc:0.66807\tvalidation_1-auc:0.63834\n",
      "[40]\tvalidation_0-auc:0.66875\tvalidation_1-auc:0.63829\n",
      "[41]\tvalidation_0-auc:0.66951\tvalidation_1-auc:0.63814\n",
      "[42]\tvalidation_0-auc:0.66990\tvalidation_1-auc:0.63821\n",
      "[43]\tvalidation_0-auc:0.67062\tvalidation_1-auc:0.63783\n",
      "[44]\tvalidation_0-auc:0.67150\tvalidation_1-auc:0.63775\n",
      "[45]\tvalidation_0-auc:0.67248\tvalidation_1-auc:0.63813\n",
      "[46]\tvalidation_0-auc:0.67356\tvalidation_1-auc:0.63885\n",
      "[47]\tvalidation_0-auc:0.67423\tvalidation_1-auc:0.63904\n",
      "[48]\tvalidation_0-auc:0.67495\tvalidation_1-auc:0.63914\n",
      "[49]\tvalidation_0-auc:0.67541\tvalidation_1-auc:0.63889\n",
      "[50]\tvalidation_0-auc:0.67618\tvalidation_1-auc:0.63930\n",
      "[51]\tvalidation_0-auc:0.67650\tvalidation_1-auc:0.63913\n",
      "[52]\tvalidation_0-auc:0.67686\tvalidation_1-auc:0.63949\n",
      "[53]\tvalidation_0-auc:0.67746\tvalidation_1-auc:0.64003\n",
      "[54]\tvalidation_0-auc:0.67786\tvalidation_1-auc:0.64002\n",
      "[55]\tvalidation_0-auc:0.67831\tvalidation_1-auc:0.64006\n",
      "[56]\tvalidation_0-auc:0.67871\tvalidation_1-auc:0.63962\n",
      "[57]\tvalidation_0-auc:0.67907\tvalidation_1-auc:0.63952\n",
      "[58]\tvalidation_0-auc:0.67941\tvalidation_1-auc:0.63924\n",
      "[59]\tvalidation_0-auc:0.67976\tvalidation_1-auc:0.63906\n",
      "[60]\tvalidation_0-auc:0.68029\tvalidation_1-auc:0.63931\n",
      "[61]\tvalidation_0-auc:0.68073\tvalidation_1-auc:0.63944\n",
      "[62]\tvalidation_0-auc:0.68161\tvalidation_1-auc:0.63960\n",
      "[63]\tvalidation_0-auc:0.68192\tvalidation_1-auc:0.63934\n",
      "[64]\tvalidation_0-auc:0.68243\tvalidation_1-auc:0.63966\n",
      "[65]\tvalidation_0-auc:0.68285\tvalidation_1-auc:0.63960\n"
     ]
    },
    {
     "data": {
      "text/plain": [
       "XGBClassifier(base_score=0.5, booster='gbtree', colsample_bylevel=1,\n",
       "              colsample_bynode=1, colsample_bytree=0.8,\n",
       "              enable_categorical=False, eta=0.3, gamma=0, gpu_id=-1,\n",
       "              importance_type=None, interaction_constraints='',\n",
       "              learning_rate=0.300000012, max_delta_step=0, max_depth=8,\n",
       "              min_child_weight=300, missing=nan, monotone_constraints='()',\n",
       "              n_estimators=1000, n_jobs=4, num_parallel_tree=1,\n",
       "              predictor='auto', random_state=42, reg_alpha=0, reg_lambda=1,\n",
       "              scale_pos_weight=1, seed=42, subsample=0.8, tree_method='exact',\n",
       "              use_label_encoder=False, validate_parameters=1, ...)"
      ]
     },
     "execution_count": 62,
     "metadata": {},
     "output_type": "execute_result"
    }
   ],
   "source": [
    "model_xgb = xgb.XGBClassifier(\n",
    "    max_depth=8,\n",
    "    n_estimators=1000,\n",
    "    min_child_weight=300, \n",
    "    colsample_bytree=0.8, \n",
    "    subsample=0.8, \n",
    "    eta=0.3,    \n",
    "    seed=42,\n",
    "    use_label_encoder=False\n",
    ")\n",
    "\n",
    "model_xgb.fit(\n",
    "    X_train.to_numpy(), \n",
    "    y_train.to_numpy(),\n",
    "    eval_metric='auc',\n",
    "    eval_set=[(X_train.to_numpy(), y_train.to_numpy()), (X_test.to_numpy(), y_test.to_numpy())],\n",
    "    verbose=True,\n",
    "    early_stopping_rounds=10\n",
    ")"
   ]
  },
  {
   "cell_type": "code",
   "execution_count": 63,
   "metadata": {},
   "outputs": [],
   "source": [
    "prob = model_xgb.predict_proba(X_test.to_numpy())[:,1]"
   ]
  },
  {
   "cell_type": "code",
   "execution_count": 64,
   "metadata": {},
   "outputs": [
    {
     "data": {
      "text/plain": [
       "0.64"
      ]
     },
     "execution_count": 64,
     "metadata": {},
     "output_type": "execute_result"
    }
   ],
   "source": [
    "round(metrics.roc_auc_score(y_test, prob), 3)"
   ]
  },
  {
   "cell_type": "code",
   "execution_count": null,
   "metadata": {},
   "outputs": [],
   "source": []
  }
 ],
 "metadata": {
  "interpreter": {
   "hash": "52143a4c1d3c54e78ec3a6dc4e56afb88afff4ca0e9824f0ff9251ac34bb2b12"
  },
  "kernelspec": {
   "display_name": "PyCharm (Project)",
   "language": "python",
   "name": "python3"
  },
  "language_info": {
   "codemirror_mode": {
    "name": "ipython",
    "version": 3
   },
   "file_extension": ".py",
   "mimetype": "text/x-python",
   "name": "python",
   "nbconvert_exporter": "python",
   "pygments_lexer": "ipython3",
   "version": "3.9.7"
  }
 },
 "nbformat": 4,
 "nbformat_minor": 1
}
